{
 "cells": [
  {
   "cell_type": "code",
   "execution_count": 1,
   "metadata": {},
   "outputs": [],
   "source": [
    "import os\n",
    "import glob\n",
    "import sys\n",
    "\n",
    "import numpy as np\n",
    "import pandas as pd\n",
    "from scipy.misc import derivative\n",
    "import scipy.integrate as intg\n",
    "import seaborn as sns\n",
    "import matplotlib.pyplot as plt\n",
    "\n",
    "import tensorflow.keras\n",
    "import tensorflow as tf\n",
    "from tensorflow.keras.layers import Input, Dense\n",
    "from tensorflow.keras.models import Model\n",
    "from sklearn.preprocessing import StandardScaler, MinMaxScaler\n",
    "from tensorflow.keras.optimizers import Adam\n",
    "from tensorflow.keras.initializers import Constant, RandomNormal\n",
    "\n",
    "from sklearn.metrics import mean_squared_error\n",
    "from astroNN.nn.layers import MCDropout\n",
    "\n",
    "np.random.seed(0)\n",
    "%matplotlib inline"
   ]
  },
  {
   "cell_type": "code",
   "execution_count": 2,
   "metadata": {},
   "outputs": [
    {
     "name": "stdout",
     "output_type": "stream",
     "text": [
      "['/home/isidro/Documents/github/model_independent_RC/data/MassModels/NGC2903.NFW.fix.REV.dat', '/home/isidro/Documents/github/model_independent_RC/data/MassModels/NGC3521.NFW.fix.REV.dat', '/home/isidro/Documents/github/model_independent_RC/data/MassModels/NGC5055.NFW.fix.REV.dat', '/home/isidro/Documents/github/model_independent_RC/data/MassModels/NGC2841.NFW.fix.REV.dat', '/home/isidro/Documents/github/model_independent_RC/data/MassModels/NGC7331.NFW.fix.REV.dat', '/home/isidro/Documents/github/model_independent_RC/data/MassModels/NGC6946.NFW.fix.REV.dat', '/home/isidro/Documents/github/model_independent_RC/data/MassModels/NGC2366.NFW.fix.REV.dat', '/home/isidro/Documents/github/model_independent_RC/data/MassModels/NGC925.NFW.fix.REV.dat', '/home/isidro/Documents/github/model_independent_RC/data/MassModels/NGC3621.NFW.fix.REV.dat', '/home/isidro/Documents/github/model_independent_RC/data/MassModels/NGC2403.NFW.fix.REV.dat', '/home/isidro/Documents/github/model_independent_RC/data/MassModels/NGC3031.NFW.fix.REV.dat', '/home/isidro/Documents/github/model_independent_RC/data/MassModels/DDO154.NFW.fix.REV.dat', '/home/isidro/Documents/github/model_independent_RC/data/MassModels/NGC2976.NFW.fix.REV.dat', '/home/isidro/Documents/github/model_independent_RC/data/MassModels/NGC4736.NFW.fix.REV.dat', '/home/isidro/Documents/github/model_independent_RC/data/MassModels/IC2574.NFW.fix.REV.dat', '/home/isidro/Documents/github/model_independent_RC/data/MassModels/NGC3198.NFW.fix.REV.dat', '/home/isidro/Documents/github/model_independent_RC/data/MassModels/NGC7793.NFW.fix.REV.dat']\n"
     ]
    }
   ],
   "source": [
    "dir_name = '/home/isidro/Documents/github/model_independent_RC/data/MassModels/'\n",
    "path = r'{}*.NFW.fix.REV.dat'.format(dir_name)\n",
    "files = glob.glob(path)\n",
    "print(files)"
   ]
  },
  {
   "cell_type": "code",
   "execution_count": 3,
   "metadata": {},
   "outputs": [
    {
     "name": "stdout",
     "output_type": "stream",
     "text": [
      "0 /home/isidro/Documents/github/model_independent_RC/data/MassModels/NGC2903.NFW.fix.REV.dat\n",
      "1 /home/isidro/Documents/github/model_independent_RC/data/MassModels/NGC3521.NFW.fix.REV.dat\n",
      "2 /home/isidro/Documents/github/model_independent_RC/data/MassModels/NGC5055.NFW.fix.REV.dat\n",
      "3 /home/isidro/Documents/github/model_independent_RC/data/MassModels/NGC2841.NFW.fix.REV.dat\n",
      "4 /home/isidro/Documents/github/model_independent_RC/data/MassModels/NGC7331.NFW.fix.REV.dat\n",
      "5 /home/isidro/Documents/github/model_independent_RC/data/MassModels/NGC6946.NFW.fix.REV.dat\n",
      "6 /home/isidro/Documents/github/model_independent_RC/data/MassModels/NGC2366.NFW.fix.REV.dat\n",
      "7 /home/isidro/Documents/github/model_independent_RC/data/MassModels/NGC925.NFW.fix.REV.dat\n",
      "8 /home/isidro/Documents/github/model_independent_RC/data/MassModels/NGC3621.NFW.fix.REV.dat\n",
      "9 /home/isidro/Documents/github/model_independent_RC/data/MassModels/NGC2403.NFW.fix.REV.dat\n",
      "10 /home/isidro/Documents/github/model_independent_RC/data/MassModels/NGC3031.NFW.fix.REV.dat\n",
      "11 /home/isidro/Documents/github/model_independent_RC/data/MassModels/DDO154.NFW.fix.REV.dat\n",
      "12 /home/isidro/Documents/github/model_independent_RC/data/MassModels/NGC2976.NFW.fix.REV.dat\n",
      "13 /home/isidro/Documents/github/model_independent_RC/data/MassModels/NGC4736.NFW.fix.REV.dat\n",
      "14 /home/isidro/Documents/github/model_independent_RC/data/MassModels/IC2574.NFW.fix.REV.dat\n",
      "15 /home/isidro/Documents/github/model_independent_RC/data/MassModels/NGC3198.NFW.fix.REV.dat\n",
      "16 /home/isidro/Documents/github/model_independent_RC/data/MassModels/NGC7793.NFW.fix.REV.dat\n"
     ]
    }
   ],
   "source": [
    "for i, file in enumerate(files):\n",
    "    print(i, file)"
   ]
  },
  {
   "cell_type": "code",
   "execution_count": 4,
   "metadata": {},
   "outputs": [
    {
     "data": {
      "text/plain": [
       "'/home/isidro/Documents/github/model_independent_RC/data/MassModels/DDO154.NFW.fix.REV.dat'"
      ]
     },
     "execution_count": 4,
     "metadata": {},
     "output_type": "execute_result"
    }
   ],
   "source": [
    "files[11]"
   ]
  },
  {
   "cell_type": "code",
   "execution_count": 5,
   "metadata": {},
   "outputs": [],
   "source": [
    "def dir_root_name(file):\n",
    "    print(file)\n",
    "#     print(\"dir name\", dir_name)\n",
    "#     s1 = file.rstrip(dir_name)\n",
    "#     print(\"without dir\", s1)\n",
    "    s = file.rstrip('.NFW.fix.REV.dat')\n",
    "    print(\"dir+root\", s)\n",
    "    return s"
   ]
  },
  {
   "cell_type": "code",
   "execution_count": 6,
   "metadata": {},
   "outputs": [
    {
     "name": "stdout",
     "output_type": "stream",
     "text": [
      "/home/isidro/Documents/github/model_independent_RC/data/MassModels/DDO154.NFW.fix.REV.dat\n",
      "dir+root /home/isidro/Documents/github/model_independent_RC/data/MassModels/DDO154\n"
     ]
    },
    {
     "data": {
      "text/plain": [
       "'/home/isidro/Documents/github/model_independent_RC/data/MassModels/DDO154'"
      ]
     },
     "execution_count": 6,
     "metadata": {},
     "output_type": "execute_result"
    }
   ],
   "source": [
    "dir_root_name(files[11])"
   ]
  },
  {
   "cell_type": "code",
   "execution_count": null,
   "metadata": {},
   "outputs": [
    {
     "name": "stdout",
     "output_type": "stream",
     "text": [
      "Model 1/17\n",
      "----------\n",
      "/home/isidro/Documents/github/model_independent_RC/data/MassModels/NGC2903.NFW.fix.REV.dat\n",
      "dir+root /home/isidro/Documents/github/model_independent_RC/data/MassModels/NGC2903\n",
      "X_train shape: (69, 1) | y_train shape: (69, 2) | x_val shape: (18, 1) | y_val shape: (18, 2)\n",
      "16/16 [==============================] - 0s 1ms/step\n",
      "16/16 [==============================] - 0s 1ms/step\n",
      "16/16 [==============================] - 0s 1ms/step\n",
      "16/16 [==============================] - 0s 1ms/step\n",
      "16/16 [==============================] - 0s 1ms/step\n",
      "16/16 [==============================] - 0s 1ms/step\n",
      "16/16 [==============================] - 0s 1ms/step\n",
      "16/16 [==============================] - 0s 1ms/step\n",
      "16/16 [==============================] - 0s 2ms/step\n",
      "16/16 [==============================] - 0s 2ms/step\n",
      "16/16 [==============================] - 0s 1ms/step\n",
      "16/16 [==============================] - 0s 1ms/step\n",
      "16/16 [==============================] - 0s 1ms/step\n",
      "16/16 [==============================] - 0s 1ms/step\n",
      "16/16 [==============================] - 0s 1ms/step\n",
      "16/16 [==============================] - 0s 1ms/step\n",
      "16/16 [==============================] - 0s 1ms/step\n",
      "16/16 [==============================] - 0s 1ms/step\n",
      "16/16 [==============================] - 0s 1ms/step\n",
      "16/16 [==============================] - 0s 1ms/step\n"
     ]
    }
   ],
   "source": [
    "history_all = []\n",
    "for idx, file in enumerate(files):\n",
    "    print(\"Model {}/{}\".format(idx+1, len(files)))\n",
    "    print(\"-\"*10)\n",
    "    \n",
    "    history_ind = {}\n",
    "    \n",
    "    data = np.loadtxt(files[idx], skiprows=12) \n",
    "    df = pd.DataFrame(data, columns=['Radius', 'vgas', 'vdisk', 'vbulge', \n",
    "                                     'vobs', 'err_vobs', 'Vu', 'Vt','Rxv', 'Vxy'])\n",
    "    \n",
    "    data_free = np.loadtxt(dir_root_name(files[idx])+\".NFW.fix.REV.dat\", skiprows=12)\n",
    "    df_free = pd.DataFrame(data_free, columns=['Radius', 'vgas', 'vdisk', 'vbulge', \n",
    "                                     'vobs', 'err_vobs', 'Vu', 'Vt','Rxv', 'Vxy'])\n",
    "    N = len(df.values)\n",
    "    df = df[['Radius', 'vobs','err_vobs', 'Vt']]\n",
    "\n",
    "\n",
    "    randomize = np.random.permutation(N)\n",
    "    data = df.values[randomize]\n",
    "\n",
    "    z = data[:,0]\n",
    "    y = data[:,1:3]\n",
    "    \n",
    "    scalerz = StandardScaler()\n",
    "    scalerz.fit(z.reshape(-1,1))\n",
    "    # apply transform\n",
    "    z = scalerz.transform(z.reshape(-1,1))\n",
    "    \n",
    "    split = 0.8\n",
    "    ntrain = int(split * len(z))\n",
    "    indx = [ntrain]\n",
    "    z_train, z_test = np.split(z, indx)\n",
    "    y_train, y_test = np.split(y, indx)\n",
    "    \n",
    "    print(\"X_train shape: {} | y_train shape: {} | x_val shape: {} | y_val shape: {}\".format(np.shape(z_train), \n",
    "                                                                                             np.shape(y_train), \n",
    "                                                                                             np.shape(z_test), \n",
    "                                                                                             np.shape(y_test)))\n",
    "\n",
    "        \n",
    "    model = tf.keras.models.load_model('models/RC_model_{}.h5'.format(idx+1), custom_objects={'MCDropout': MCDropout})\n",
    "\n",
    "\n",
    "    # Generate test data\n",
    "    test_batch_size = 500\n",
    "    # x_test = np.random.uniform(0, 2., test_batch_size)\n",
    "    x_test = np.linspace(min(df['Radius'].values)-0.1, max(df['Radius'].values)+0.1, test_batch_size)\n",
    "\n",
    "    mc_dropout_num = 100  # Run Dropout 100 times\n",
    "    predictions = np.zeros((mc_dropout_num, test_batch_size, 2))\n",
    "    for i in range(mc_dropout_num):\n",
    "        predictions[i] = model.predict(scalerz.transform(x_test.reshape(-1,1)))\n",
    "\n",
    "    # get mean results and its varience\n",
    "    prediction_mc_dropout = np.mean(predictions, axis=0)\n",
    "    std_mc_dropout = np.std(predictions, axis=0)\n",
    "    \n",
    "    # plt.rcParams[\"figure.figsize\"] = [7.50, 3.50]\n",
    "    plt.rcParams[\"figure.autolayout\"] = True\n",
    "    overlapping = 0.6\n",
    "    # Plotting\n",
    "    plt.figure(figsize=(10, 7), dpi=100)\n",
    "    sigma = np.sqrt(std_mc_dropout[:, 0]**2 + std_mc_dropout[:, 1]**2+ prediction_mc_dropout[:,1]**2)\n",
    "\n",
    "    plt.plot(df['Radius'].values, df['Vt'].values, color='black', linewidth=3, label='NFW theory $\\\\Upsilon_*^{fix}$',alpha=1)\n",
    "    \n",
    "#     plt.plot(df_free['Radius'].values, df_free['Vt'].values, color='blue', linewidth=3, label='NFW theory $\\\\Upsilon_*^{free}$', alpha=1)\n",
    "\n",
    "    plt.errorbar(df['Radius'].values, df['vobs'].values, yerr=df['err_vobs'].values, fmt='.', \n",
    "                 color='red', elinewidth=1, ecolor='red', markersize=5, label='Observations', alpha=overlapping)\n",
    "\n",
    "    plt.errorbar(x_test, prediction_mc_dropout[:,0], yerr=sigma, markersize=2, fmt='o', \n",
    "                 ecolor='green', capthick=2, elinewidth=0.5, alpha=overlapping-0.2, c='green',\n",
    "                 label='Neural reconstruction')\n",
    "\n",
    "\n",
    "    plt.ylabel(\"$V(r)$\", fontsize=20)\n",
    "    plt.xlabel(\"r\", fontsize=20)\n",
    "    plt.xticks(fontsize=15)\n",
    "    plt.yticks(fontsize=15)\n",
    "\n",
    "    plt.legend(loc='upper left')\n",
    "    plt.tight_layout()\n",
    "\n",
    "    plt.savefig(\"figures/load_neural_reconstruction_RC_{}.png\".format(idx+1), dpi=100)\n",
    "          \n",
    "    print(\"-\"*10)\n",
    "    # plt.ylim(0, 200)"
   ]
  },
  {
   "cell_type": "code",
   "execution_count": null,
   "metadata": {},
   "outputs": [],
   "source": []
  },
  {
   "cell_type": "code",
   "execution_count": null,
   "metadata": {},
   "outputs": [],
   "source": []
  }
 ],
 "metadata": {
  "kernelspec": {
   "display_name": "Python 3",
   "language": "python",
   "name": "python3"
  },
  "language_info": {
   "codemirror_mode": {
    "name": "ipython",
    "version": 3
   },
   "file_extension": ".py",
   "mimetype": "text/x-python",
   "name": "python",
   "nbconvert_exporter": "python",
   "pygments_lexer": "ipython3",
   "version": "3.8.10"
  }
 },
 "nbformat": 4,
 "nbformat_minor": 4
}
